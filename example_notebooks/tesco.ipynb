{
  "nbformat": 4,
  "nbformat_minor": 0,
  "metadata": {
    "colab": {
      "provenance": []
    },
    "kernelspec": {
      "name": "python3",
      "display_name": "Python 3"
    },
    "language_info": {
      "name": "python"
    }
  },
  "cells": [
    {
      "cell_type": "markdown",
      "source": [
        "Data is from [this dataset](https://www.kaggle.com/datasets/blastchar/telco-customer-churn) to predict churn from a telecom company"
      ],
      "metadata": {
        "id": "RwwgAniULv0A"
      }
    },
    {
      "cell_type": "markdown",
      "source": [
        "## A Basic Model as a starting point\n",
        "\n",
        "Model selection and model fitting is not our goal here"
      ],
      "metadata": {
        "id": "yBu3g4BLL-9p"
      }
    },
    {
      "cell_type": "code",
      "execution_count": null,
      "metadata": {
        "id": "kxXJuaMjKblK"
      },
      "outputs": [],
      "source": [
        "import pandas as pd\n",
        "import matplotlib.pyplot as plt\n",
        "import numpy as np\n",
        "\n",
        "plt.style.use('fivethirtyeight')"
      ]
    },
    {
      "cell_type": "code",
      "source": [
        "from sklearn.model_selection import train_test_split\n",
        "from sklearn.pipeline import Pipeline\n",
        "from sklearn.compose import ColumnTransformer\n",
        "from sklearn.preprocessing import OneHotEncoder\n",
        "from sklearn.metrics import roc_auc_score, log_loss\n",
        "from sklearn.compose import make_column_selector as selector\n",
        "from xgboost import XGBClassifier\n",
        "from pathlib import Path\n",
        "\n",
        "from sklearn.metrics import confusion_matrix"
      ],
      "metadata": {
        "id": "v7CnRzL8FFJB"
      },
      "execution_count": null,
      "outputs": []
    },
    {
      "cell_type": "code",
      "source": [
        "# Load Data\n",
        "path = \"/content/WA_Fn-UseC_-Telco-Customer-Churn.csv\"\n",
        "df = pd.read_csv(path)"
      ],
      "metadata": {
        "id": "wMSuywXTPJAz"
      },
      "execution_count": null,
      "outputs": []
    },
    {
      "cell_type": "code",
      "source": [
        "df.head()"
      ],
      "metadata": {
        "colab": {
          "base_uri": "https://localhost:8080/",
          "height": 386
        },
        "id": "oaBpFIXBPSU9",
        "outputId": "ed643330-6084-44f5-d794-e43df844aba3"
      },
      "execution_count": null,
      "outputs": [
        {
          "output_type": "execute_result",
          "data": {
            "text/plain": [
              "   customerID  gender  SeniorCitizen Partner Dependents  tenure PhoneService  \\\n",
              "0  7590-VHVEG  Female              0     Yes         No       1           No   \n",
              "1  5575-GNVDE    Male              0      No         No      34          Yes   \n",
              "2  3668-QPYBK    Male              0      No         No       2          Yes   \n",
              "3  7795-CFOCW    Male              0      No         No      45           No   \n",
              "4  9237-HQITU  Female              0      No         No       2          Yes   \n",
              "\n",
              "      MultipleLines InternetService OnlineSecurity  ... DeviceProtection  \\\n",
              "0  No phone service             DSL             No  ...               No   \n",
              "1                No             DSL            Yes  ...              Yes   \n",
              "2                No             DSL            Yes  ...               No   \n",
              "3  No phone service             DSL            Yes  ...              Yes   \n",
              "4                No     Fiber optic             No  ...               No   \n",
              "\n",
              "  TechSupport StreamingTV StreamingMovies        Contract PaperlessBilling  \\\n",
              "0          No          No              No  Month-to-month              Yes   \n",
              "1          No          No              No        One year               No   \n",
              "2          No          No              No  Month-to-month              Yes   \n",
              "3         Yes          No              No        One year               No   \n",
              "4          No          No              No  Month-to-month              Yes   \n",
              "\n",
              "               PaymentMethod MonthlyCharges  TotalCharges Churn  \n",
              "0           Electronic check          29.85         29.85    No  \n",
              "1               Mailed check          56.95        1889.5    No  \n",
              "2               Mailed check          53.85        108.15   Yes  \n",
              "3  Bank transfer (automatic)          42.30       1840.75    No  \n",
              "4           Electronic check          70.70        151.65   Yes  \n",
              "\n",
              "[5 rows x 21 columns]"
            ],
            "text/html": [
              "\n",
              "\n",
              "  <div id=\"df-8d047ea3-8af0-421f-a21c-16f10cadc0fc\">\n",
              "    <div class=\"colab-df-container\">\n",
              "      <div>\n",
              "<style scoped>\n",
              "    .dataframe tbody tr th:only-of-type {\n",
              "        vertical-align: middle;\n",
              "    }\n",
              "\n",
              "    .dataframe tbody tr th {\n",
              "        vertical-align: top;\n",
              "    }\n",
              "\n",
              "    .dataframe thead th {\n",
              "        text-align: right;\n",
              "    }\n",
              "</style>\n",
              "<table border=\"1\" class=\"dataframe\">\n",
              "  <thead>\n",
              "    <tr style=\"text-align: right;\">\n",
              "      <th></th>\n",
              "      <th>customerID</th>\n",
              "      <th>gender</th>\n",
              "      <th>SeniorCitizen</th>\n",
              "      <th>Partner</th>\n",
              "      <th>Dependents</th>\n",
              "      <th>tenure</th>\n",
              "      <th>PhoneService</th>\n",
              "      <th>MultipleLines</th>\n",
              "      <th>InternetService</th>\n",
              "      <th>OnlineSecurity</th>\n",
              "      <th>...</th>\n",
              "      <th>DeviceProtection</th>\n",
              "      <th>TechSupport</th>\n",
              "      <th>StreamingTV</th>\n",
              "      <th>StreamingMovies</th>\n",
              "      <th>Contract</th>\n",
              "      <th>PaperlessBilling</th>\n",
              "      <th>PaymentMethod</th>\n",
              "      <th>MonthlyCharges</th>\n",
              "      <th>TotalCharges</th>\n",
              "      <th>Churn</th>\n",
              "    </tr>\n",
              "  </thead>\n",
              "  <tbody>\n",
              "    <tr>\n",
              "      <th>0</th>\n",
              "      <td>7590-VHVEG</td>\n",
              "      <td>Female</td>\n",
              "      <td>0</td>\n",
              "      <td>Yes</td>\n",
              "      <td>No</td>\n",
              "      <td>1</td>\n",
              "      <td>No</td>\n",
              "      <td>No phone service</td>\n",
              "      <td>DSL</td>\n",
              "      <td>No</td>\n",
              "      <td>...</td>\n",
              "      <td>No</td>\n",
              "      <td>No</td>\n",
              "      <td>No</td>\n",
              "      <td>No</td>\n",
              "      <td>Month-to-month</td>\n",
              "      <td>Yes</td>\n",
              "      <td>Electronic check</td>\n",
              "      <td>29.85</td>\n",
              "      <td>29.85</td>\n",
              "      <td>No</td>\n",
              "    </tr>\n",
              "    <tr>\n",
              "      <th>1</th>\n",
              "      <td>5575-GNVDE</td>\n",
              "      <td>Male</td>\n",
              "      <td>0</td>\n",
              "      <td>No</td>\n",
              "      <td>No</td>\n",
              "      <td>34</td>\n",
              "      <td>Yes</td>\n",
              "      <td>No</td>\n",
              "      <td>DSL</td>\n",
              "      <td>Yes</td>\n",
              "      <td>...</td>\n",
              "      <td>Yes</td>\n",
              "      <td>No</td>\n",
              "      <td>No</td>\n",
              "      <td>No</td>\n",
              "      <td>One year</td>\n",
              "      <td>No</td>\n",
              "      <td>Mailed check</td>\n",
              "      <td>56.95</td>\n",
              "      <td>1889.5</td>\n",
              "      <td>No</td>\n",
              "    </tr>\n",
              "    <tr>\n",
              "      <th>2</th>\n",
              "      <td>3668-QPYBK</td>\n",
              "      <td>Male</td>\n",
              "      <td>0</td>\n",
              "      <td>No</td>\n",
              "      <td>No</td>\n",
              "      <td>2</td>\n",
              "      <td>Yes</td>\n",
              "      <td>No</td>\n",
              "      <td>DSL</td>\n",
              "      <td>Yes</td>\n",
              "      <td>...</td>\n",
              "      <td>No</td>\n",
              "      <td>No</td>\n",
              "      <td>No</td>\n",
              "      <td>No</td>\n",
              "      <td>Month-to-month</td>\n",
              "      <td>Yes</td>\n",
              "      <td>Mailed check</td>\n",
              "      <td>53.85</td>\n",
              "      <td>108.15</td>\n",
              "      <td>Yes</td>\n",
              "    </tr>\n",
              "    <tr>\n",
              "      <th>3</th>\n",
              "      <td>7795-CFOCW</td>\n",
              "      <td>Male</td>\n",
              "      <td>0</td>\n",
              "      <td>No</td>\n",
              "      <td>No</td>\n",
              "      <td>45</td>\n",
              "      <td>No</td>\n",
              "      <td>No phone service</td>\n",
              "      <td>DSL</td>\n",
              "      <td>Yes</td>\n",
              "      <td>...</td>\n",
              "      <td>Yes</td>\n",
              "      <td>Yes</td>\n",
              "      <td>No</td>\n",
              "      <td>No</td>\n",
              "      <td>One year</td>\n",
              "      <td>No</td>\n",
              "      <td>Bank transfer (automatic)</td>\n",
              "      <td>42.30</td>\n",
              "      <td>1840.75</td>\n",
              "      <td>No</td>\n",
              "    </tr>\n",
              "    <tr>\n",
              "      <th>4</th>\n",
              "      <td>9237-HQITU</td>\n",
              "      <td>Female</td>\n",
              "      <td>0</td>\n",
              "      <td>No</td>\n",
              "      <td>No</td>\n",
              "      <td>2</td>\n",
              "      <td>Yes</td>\n",
              "      <td>No</td>\n",
              "      <td>Fiber optic</td>\n",
              "      <td>No</td>\n",
              "      <td>...</td>\n",
              "      <td>No</td>\n",
              "      <td>No</td>\n",
              "      <td>No</td>\n",
              "      <td>No</td>\n",
              "      <td>Month-to-month</td>\n",
              "      <td>Yes</td>\n",
              "      <td>Electronic check</td>\n",
              "      <td>70.70</td>\n",
              "      <td>151.65</td>\n",
              "      <td>Yes</td>\n",
              "    </tr>\n",
              "  </tbody>\n",
              "</table>\n",
              "<p>5 rows × 21 columns</p>\n",
              "</div>\n",
              "      <button class=\"colab-df-convert\" onclick=\"convertToInteractive('df-8d047ea3-8af0-421f-a21c-16f10cadc0fc')\"\n",
              "              title=\"Convert this dataframe to an interactive table.\"\n",
              "              style=\"display:none;\">\n",
              "\n",
              "  <svg xmlns=\"http://www.w3.org/2000/svg\" height=\"24px\"viewBox=\"0 0 24 24\"\n",
              "       width=\"24px\">\n",
              "    <path d=\"M0 0h24v24H0V0z\" fill=\"none\"/>\n",
              "    <path d=\"M18.56 5.44l.94 2.06.94-2.06 2.06-.94-2.06-.94-.94-2.06-.94 2.06-2.06.94zm-11 1L8.5 8.5l.94-2.06 2.06-.94-2.06-.94L8.5 2.5l-.94 2.06-2.06.94zm10 10l.94 2.06.94-2.06 2.06-.94-2.06-.94-.94-2.06-.94 2.06-2.06.94z\"/><path d=\"M17.41 7.96l-1.37-1.37c-.4-.4-.92-.59-1.43-.59-.52 0-1.04.2-1.43.59L10.3 9.45l-7.72 7.72c-.78.78-.78 2.05 0 2.83L4 21.41c.39.39.9.59 1.41.59.51 0 1.02-.2 1.41-.59l7.78-7.78 2.81-2.81c.8-.78.8-2.07 0-2.86zM5.41 20L4 18.59l7.72-7.72 1.47 1.35L5.41 20z\"/>\n",
              "  </svg>\n",
              "      </button>\n",
              "\n",
              "\n",
              "\n",
              "    <div id=\"df-79d68699-5257-4a84-85cf-6084dad34942\">\n",
              "      <button class=\"colab-df-quickchart\" onclick=\"quickchart('df-79d68699-5257-4a84-85cf-6084dad34942')\"\n",
              "              title=\"Suggest charts.\"\n",
              "              style=\"display:none;\">\n",
              "\n",
              "<svg xmlns=\"http://www.w3.org/2000/svg\" height=\"24px\"viewBox=\"0 0 24 24\"\n",
              "     width=\"24px\">\n",
              "    <g>\n",
              "        <path d=\"M19 3H5c-1.1 0-2 .9-2 2v14c0 1.1.9 2 2 2h14c1.1 0 2-.9 2-2V5c0-1.1-.9-2-2-2zM9 17H7v-7h2v7zm4 0h-2V7h2v10zm4 0h-2v-4h2v4z\"/>\n",
              "    </g>\n",
              "</svg>\n",
              "      </button>\n",
              "    </div>\n",
              "\n",
              "<style>\n",
              "  .colab-df-quickchart {\n",
              "    background-color: #E8F0FE;\n",
              "    border: none;\n",
              "    border-radius: 50%;\n",
              "    cursor: pointer;\n",
              "    display: none;\n",
              "    fill: #1967D2;\n",
              "    height: 32px;\n",
              "    padding: 0 0 0 0;\n",
              "    width: 32px;\n",
              "  }\n",
              "\n",
              "  .colab-df-quickchart:hover {\n",
              "    background-color: #E2EBFA;\n",
              "    box-shadow: 0px 1px 2px rgba(60, 64, 67, 0.3), 0px 1px 3px 1px rgba(60, 64, 67, 0.15);\n",
              "    fill: #174EA6;\n",
              "  }\n",
              "\n",
              "  [theme=dark] .colab-df-quickchart {\n",
              "    background-color: #3B4455;\n",
              "    fill: #D2E3FC;\n",
              "  }\n",
              "\n",
              "  [theme=dark] .colab-df-quickchart:hover {\n",
              "    background-color: #434B5C;\n",
              "    box-shadow: 0px 1px 3px 1px rgba(0, 0, 0, 0.15);\n",
              "    filter: drop-shadow(0px 1px 2px rgba(0, 0, 0, 0.3));\n",
              "    fill: #FFFFFF;\n",
              "  }\n",
              "</style>\n",
              "\n",
              "    <script>\n",
              "      async function quickchart(key) {\n",
              "        const containerElement = document.querySelector('#' + key);\n",
              "        const charts = await google.colab.kernel.invokeFunction(\n",
              "            'suggestCharts', [key], {});\n",
              "      }\n",
              "    </script>\n",
              "\n",
              "      <script>\n",
              "\n",
              "function displayQuickchartButton(domScope) {\n",
              "  let quickchartButtonEl =\n",
              "    domScope.querySelector('#df-79d68699-5257-4a84-85cf-6084dad34942 button.colab-df-quickchart');\n",
              "  quickchartButtonEl.style.display =\n",
              "    google.colab.kernel.accessAllowed ? 'block' : 'none';\n",
              "}\n",
              "\n",
              "        displayQuickchartButton(document);\n",
              "      </script>\n",
              "      <style>\n",
              "    .colab-df-container {\n",
              "      display:flex;\n",
              "      flex-wrap:wrap;\n",
              "      gap: 12px;\n",
              "    }\n",
              "\n",
              "    .colab-df-convert {\n",
              "      background-color: #E8F0FE;\n",
              "      border: none;\n",
              "      border-radius: 50%;\n",
              "      cursor: pointer;\n",
              "      display: none;\n",
              "      fill: #1967D2;\n",
              "      height: 32px;\n",
              "      padding: 0 0 0 0;\n",
              "      width: 32px;\n",
              "    }\n",
              "\n",
              "    .colab-df-convert:hover {\n",
              "      background-color: #E2EBFA;\n",
              "      box-shadow: 0px 1px 2px rgba(60, 64, 67, 0.3), 0px 1px 3px 1px rgba(60, 64, 67, 0.15);\n",
              "      fill: #174EA6;\n",
              "    }\n",
              "\n",
              "    [theme=dark] .colab-df-convert {\n",
              "      background-color: #3B4455;\n",
              "      fill: #D2E3FC;\n",
              "    }\n",
              "\n",
              "    [theme=dark] .colab-df-convert:hover {\n",
              "      background-color: #434B5C;\n",
              "      box-shadow: 0px 1px 3px 1px rgba(0, 0, 0, 0.15);\n",
              "      filter: drop-shadow(0px 1px 2px rgba(0, 0, 0, 0.3));\n",
              "      fill: #FFFFFF;\n",
              "    }\n",
              "  </style>\n",
              "\n",
              "      <script>\n",
              "        const buttonEl =\n",
              "          document.querySelector('#df-8d047ea3-8af0-421f-a21c-16f10cadc0fc button.colab-df-convert');\n",
              "        buttonEl.style.display =\n",
              "          google.colab.kernel.accessAllowed ? 'block' : 'none';\n",
              "\n",
              "        async function convertToInteractive(key) {\n",
              "          const element = document.querySelector('#df-8d047ea3-8af0-421f-a21c-16f10cadc0fc');\n",
              "          const dataTable =\n",
              "            await google.colab.kernel.invokeFunction('convertToInteractive',\n",
              "                                                     [key], {});\n",
              "          if (!dataTable) return;\n",
              "\n",
              "          const docLinkHtml = 'Like what you see? Visit the ' +\n",
              "            '<a target=\"_blank\" href=https://colab.research.google.com/notebooks/data_table.ipynb>data table notebook</a>'\n",
              "            + ' to learn more about interactive tables.';\n",
              "          element.innerHTML = '';\n",
              "          dataTable['output_type'] = 'display_data';\n",
              "          await google.colab.output.renderOutput(dataTable, element);\n",
              "          const docLink = document.createElement('div');\n",
              "          docLink.innerHTML = docLinkHtml;\n",
              "          element.appendChild(docLink);\n",
              "        }\n",
              "      </script>\n",
              "    </div>\n",
              "  </div>\n"
            ]
          },
          "metadata": {},
          "execution_count": 5
        }
      ]
    },
    {
      "cell_type": "markdown",
      "source": [
        "The aim of the example is not to show how to handle the specific taskk.\n",
        "\n",
        "The aim is to show how to build a project and deploy the solution.\n",
        "\n",
        "For details on the project visit Kaggle."
      ],
      "metadata": {
        "id": "OgdQGvYiFiCe"
      }
    },
    {
      "cell_type": "code",
      "source": [
        "# Select the target and split train-test set\n",
        "target = \"Churn\"\n",
        "X_train, X_test, y_train, y_test = train_test_split(\n",
        "    df.drop(target, axis=1), df[target] == \"Yes\", test_size=0.2, random_state=0\n",
        ")"
      ],
      "metadata": {
        "id": "E-l6rqR9PVYG"
      },
      "execution_count": null,
      "outputs": []
    },
    {
      "cell_type": "code",
      "source": [
        "# Select columns\n",
        "cols_to_use = [\n",
        "    \"tenure\",\n",
        "    \"PhoneService\",\n",
        "    \"MultipleLines\",\n",
        "    \"InternetService\",\n",
        "    \"OnlineSecurity\",\n",
        "    \"OnlineBackup\",\n",
        "    \"DeviceProtection\",\n",
        "    \"TechSupport\",\n",
        "    \"StreamingTV\",\n",
        "    \"StreamingMovies\",\n",
        "    \"Contract\",\n",
        "    \"PaperlessBilling\",\n",
        "    \"PaymentMethod\",\n",
        "    \"MonthlyCharges\",\n",
        "]"
      ],
      "metadata": {
        "id": "dPmqkCy2FTd3"
      },
      "execution_count": null,
      "outputs": []
    },
    {
      "cell_type": "code",
      "source": [
        "# Build the pipelines\n",
        "# A few comments on pipelines\n",
        "# A pipeline is an independant sequence of steps organized to automate a process.\n",
        "\n",
        "# The idea behind pipelines is that it makes code more readable.\n",
        "# Its not only that.\n",
        "# Production - level code is much different than code on jupyter notebooks.\n",
        "\n",
        "# One of the main advantages of pipelines is the ability to reuse the process for different datasets.\n",
        "# That means you reuse the same pipeline to transform production data through a model.\n",
        "\n",
        "# Remember production level code is being run every day/week to generate predictions to assist a decision.\n",
        "# It should be:\n",
        "# 1) Clean\n",
        "# 2) Robust\n",
        "# 3) Scalable\n",
        "\n",
        "# Pipelines are a requirement for ML Production Systems."
      ],
      "metadata": {
        "id": "MHwiqNNCF1UJ"
      },
      "execution_count": null,
      "outputs": []
    },
    {
      "cell_type": "code",
      "source": [
        "# Define the preprocess steps\n",
        "preprocessor = ColumnTransformer(\n",
        "    transformers=[(\"one_hot\", OneHotEncoder(), selector(dtype_include=\"object\"))],\n",
        "    remainder=\"passthrough\",  # Leave numerical variables unchanged\n",
        ")"
      ],
      "metadata": {
        "id": "ekgkRLiaHYiO"
      },
      "execution_count": null,
      "outputs": []
    },
    {
      "cell_type": "code",
      "source": [
        "# Create the pipeline for predictions.\n",
        "pipeline = Pipeline([(\"preprocessor\", preprocessor), (\"classifier\", XGBClassifier())])\n",
        "pipeline.fit(X_train[cols_to_use], y_train)\n",
        "y_pred = pipeline.predict_proba(X_test[cols_to_use])[:, 1]\n",
        "roc_auc = roc_auc_score(y_test, y_pred)\n",
        "log_loss_val = log_loss(y_test, y_pred)"
      ],
      "metadata": {
        "id": "zKv6brRBIBLA"
      },
      "execution_count": null,
      "outputs": []
    },
    {
      "cell_type": "code",
      "source": [
        "# Deploy results\n",
        "threshold = 0.5  # Set your custom threshold here\n",
        "y_pred_binary = np.where(y_pred >= threshold, 1, 0)\n",
        "cm = confusion_matrix(y_test, y_pred_binary)\n",
        "\n",
        "# format is\n",
        "# [[TN, FP],\n",
        "#  [FN, TP]]"
      ],
      "metadata": {
        "id": "KnEM2OCLIJu0"
      },
      "execution_count": null,
      "outputs": []
    },
    {
      "cell_type": "code",
      "source": [
        "# A Function to find the optimal threshold!\n",
        "\n",
        "def profit_curve(y_true, y_pred, payoff_matrix, n_points=101):\n",
        "    \"\"\"Calculate profit curve for a binary classifier.\n",
        "\n",
        "    Args:\n",
        "        y_true (array-like): True labels.\n",
        "        y_pred (array-like): Predicted probabilities.\n",
        "        payoff_matrix (array-like): Payoff matrix.\n",
        "        n_points (int): Number of points to calculate.\n",
        "\n",
        "    Returns:\n",
        "        tuple: x and y values for the profit curve.\n",
        "    \"\"\"\n",
        "    # Calculate profit for each threshold\n",
        "    thresholds = np.linspace(0, 1, n_points)\n",
        "    profits = []\n",
        "    for threshold in thresholds:\n",
        "        y_pred_binary = np.where(y_pred >= threshold, 1, 0)\n",
        "        cm = confusion_matrix(y_true, y_pred_binary)\n",
        "        profit = (cm * payoff_matrix).sum()\n",
        "        profits.append(profit)\n",
        "    return thresholds, profits"
      ],
      "metadata": {
        "id": "BDNetZXQIw3M"
      },
      "execution_count": null,
      "outputs": []
    },
    {
      "cell_type": "code",
      "source": [
        "# Costs $80 to give discount to a customer who will not churn\n",
        "# Worth $200 to give discount to a customer who will otherwise churn\n",
        "payoff_matrix = np.array([[0, -80], [0, 200]])\n",
        "first_thresholds, first_profits = profit_curve(y_test, y_pred, payoff_matrix)\n",
        "print(first_thresholds)\n",
        "print(first_profits)"
      ],
      "metadata": {
        "colab": {
          "base_uri": "https://localhost:8080/"
        },
        "id": "q32VUAqMI3jf",
        "outputId": "9885d71d-d211-4102-fd93-647c1c560ea2"
      },
      "execution_count": null,
      "outputs": [
        {
          "output_type": "stream",
          "name": "stdout",
          "text": [
            "[0.   0.01 0.02 0.03 0.04 0.05 0.06 0.07 0.08 0.09 0.1  0.11 0.12 0.13\n",
            " 0.14 0.15 0.16 0.17 0.18 0.19 0.2  0.21 0.22 0.23 0.24 0.25 0.26 0.27\n",
            " 0.28 0.29 0.3  0.31 0.32 0.33 0.34 0.35 0.36 0.37 0.38 0.39 0.4  0.41\n",
            " 0.42 0.43 0.44 0.45 0.46 0.47 0.48 0.49 0.5  0.51 0.52 0.53 0.54 0.55\n",
            " 0.56 0.57 0.58 0.59 0.6  0.61 0.62 0.63 0.64 0.65 0.66 0.67 0.68 0.69\n",
            " 0.7  0.71 0.72 0.73 0.74 0.75 0.76 0.77 0.78 0.79 0.8  0.81 0.82 0.83\n",
            " 0.84 0.85 0.86 0.87 0.88 0.89 0.9  0.91 0.92 0.93 0.94 0.95 0.96 0.97\n",
            " 0.98 0.99 1.  ]\n",
            "[-9680, 13160, 15560, 19440, 21400, 23120, 25000, 26120, 26960, 27840, 28680, 29840, 29360, 29560, 30200, 30280, 30440, 30680, 31360, 32080, 32040, 32080, 32360, 31760, 31800, 31960, 32000, 31440, 31480, 31600, 31800, 30400, 30320, 30560, 31040, 30680, 30680, 30040, 29960, 30120, 30360, 29440, 28440, 28080, 28400, 28200, 28120, 28400, 28160, 27920, 27480, 27640, 27080, 26520, 26360, 26040, 26160, 26440, 25680, 25600, 25560, 24600, 24640, 24880, 24880, 24560, 23560, 23280, 22920, 22120, 22240, 21680, 20920, 20280, 19840, 18280, 17080, 16280, 15520, 14800, 13840, 13400, 12400, 11960, 11120, 11000, 9360, 8360, 7960, 7160, 6640, 5800, 5080, 4760, 3920, 2920, 1920, 600, 200, 0, 0]\n"
          ]
        }
      ]
    },
    {
      "cell_type": "code",
      "source": [
        "def log_profit_curve(thresholds, profits):\n",
        "    plt.figure(figsize=(10,6))  # Optional: Adjust the size of the plot\n",
        "    plt.plot(thresholds, profits)  # '-o' will also plot points at each (x,y)\n",
        "    plt.title('Value of Offering Discounts to Prevent Churn')\n",
        "    plt.xlabel('Threshold')\n",
        "    plt.ylabel('Profit')\n",
        "    plt.grid(True)\n",
        "    plt.show()\n",
        "\n",
        "log_profit_curve(first_thresholds, first_profits)"
      ],
      "metadata": {
        "colab": {
          "base_uri": "https://localhost:8080/",
          "height": 605
        },
        "id": "COOs-GRZLLeq",
        "outputId": "3f0099bd-568e-4704-c528-e3d6203f96b7"
      },
      "execution_count": null,
      "outputs": [
        {
          "output_type": "display_data",
          "data": {
            "text/plain": [
              "<Figure size 1000x600 with 1 Axes>"
            ],
            "image/png": "[encoded data removed]"
          },
          "metadata": {}
        }
      ]
    },
    {
      "cell_type": "code",
      "source": [
        "# Find the best threshold\n",
        "\n",
        "def find_best_threshold_and_profit(thresholds, profits):\n",
        "    \"\"\"Find the best threshold and profit.\n",
        "\n",
        "    Args:\n",
        "        thresholds (array-like): Threshold values.\n",
        "        profits (array-like): Profit values.\n",
        "\n",
        "    Returns:\n",
        "        tuple: Best threshold and profit.\n",
        "    \"\"\"\n",
        "    best_profit = max(profits)\n",
        "    best_threshold = thresholds[profits.index(best_profit)]\n",
        "\n",
        "    return best_threshold, best_profit"
      ],
      "metadata": {
        "id": "6_jQYPsXI5Ko"
      },
      "execution_count": null,
      "outputs": []
    },
    {
      "cell_type": "code",
      "source": [
        "# Make estimation\n",
        "best_thresh, best_profits = find_best_threshold_and_profit(first_thresholds, first_profits)\n",
        "\n",
        "print(f\"Ideal threshold is {best_thresh:.2f} which yields profits of ${best_profits:.0f}\")"
      ],
      "metadata": {
        "colab": {
          "base_uri": "https://localhost:8080/"
        },
        "id": "AjGLF3iyJNOx",
        "outputId": "8df48182-cbb0-437c-d3e4-d1f0c51ecae8"
      },
      "execution_count": null,
      "outputs": [
        {
          "output_type": "stream",
          "name": "stdout",
          "text": [
            "Ideal threshold is 0.22 which yields profits of $32360\n"
          ]
        }
      ]
    },
    {
      "cell_type": "markdown",
      "source": [
        "#### Improve the pipeline a bit"
      ],
      "metadata": {
        "id": "5oBMVJDKJv8h"
      }
    },
    {
      "cell_type": "code",
      "source": [
        "# Create synthetic data\n",
        "def make_synth_accurate_data(y_pred, y_true, closeness_factor=0.1):\n",
        "    \"\"\"Create synthetic data that is accurate.\n",
        "\n",
        "    Args:\n",
        "        y_pred (array-like): Predicted probabilities.\n",
        "        y_true (array-like): True labels.\n",
        "        closeness_factor (float): A measure of how much to increase the accuracy of the synthetic data.\n",
        "\n",
        "    Returns:\n",
        "        array: Synthetic data.\n",
        "    \"\"\"\n",
        "    errors = y_pred - y_true\n",
        "    synth_data = y_pred - errors * closeness_factor\n",
        "    synth_data_AUC = roc_auc_score(y_true, synth_data)\n",
        "    print(\n",
        "        f\"closeness_factor: {closeness_factor:.2f}.   AUC of synthetic data: {synth_data_AUC:.2f}\"\n",
        "    )\n",
        "    return synth_data"
      ],
      "metadata": {
        "id": "Cs6KIeBpJevw"
      },
      "execution_count": null,
      "outputs": []
    },
    {
      "cell_type": "code",
      "source": [
        "for i in np.linspace(0, 0.2, 11):\n",
        "    make_synth_accurate_data(y_pred, y_test, i)\n"
      ],
      "metadata": {
        "colab": {
          "base_uri": "https://localhost:8080/"
        },
        "id": "jHjrrwKEJ2Wd",
        "outputId": "89605ddb-f5b9-4f14-d469-2036f2ea82e7"
      },
      "execution_count": null,
      "outputs": [
        {
          "output_type": "stream",
          "name": "stdout",
          "text": [
            "closeness_factor: 0.00.   AUC of synthetic data: 0.82\n",
            "closeness_factor: 0.02.   AUC of synthetic data: 0.83\n",
            "closeness_factor: 0.04.   AUC of synthetic data: 0.85\n",
            "closeness_factor: 0.06.   AUC of synthetic data: 0.86\n",
            "closeness_factor: 0.08.   AUC of synthetic data: 0.87\n",
            "closeness_factor: 0.10.   AUC of synthetic data: 0.88\n",
            "closeness_factor: 0.12.   AUC of synthetic data: 0.89\n",
            "closeness_factor: 0.14.   AUC of synthetic data: 0.90\n",
            "closeness_factor: 0.16.   AUC of synthetic data: 0.91\n",
            "closeness_factor: 0.18.   AUC of synthetic data: 0.92\n",
            "closeness_factor: 0.20.   AUC of synthetic data: 0.93\n"
          ]
        }
      ]
    },
    {
      "cell_type": "markdown",
      "source": [
        "A closeness factor of 0.14 creates synthetic data that's a proxy for how good we expect predictions to be after this modeling improvement (recall that we hypothesized the modeling improvement would yield an AUC of 0.9)\n",
        "\n"
      ],
      "metadata": {
        "id": "cAI_vY7uJ62a"
      }
    },
    {
      "cell_type": "code",
      "source": [
        "synth_preds = make_synth_accurate_data(y_pred, y_test, 0.14)\n",
        "print(\n",
        "    f\"\"\"\n",
        "Sanity check that means make sense:\n",
        "{synth_preds.mean():.3f}\n",
        "{y_pred.mean():.3f}\n",
        "{y_test.mean():.3f}\n",
        "\"\"\"\n",
        ")"
      ],
      "metadata": {
        "colab": {
          "base_uri": "https://localhost:8080/"
        },
        "id": "wAgVvzR6J5lw",
        "outputId": "05ca9081-fe04-4636-fbdf-21b2afacd78f"
      },
      "execution_count": null,
      "outputs": [
        {
          "output_type": "stream",
          "name": "stdout",
          "text": [
            "closeness_factor: 0.14.   AUC of synthetic data: 0.90\n",
            "\n",
            "Sanity check that means make sense:\n",
            "0.262\n",
            "0.262\n",
            "0.261\n",
            "\n"
          ]
        }
      ]
    },
    {
      "cell_type": "markdown",
      "source": [
        "Now show profit curves we expect after this modeling improvement. We'll compare it to the profit curve from the best model built so far."
      ],
      "metadata": {
        "id": "ME0xsmM6J_oO"
      }
    },
    {
      "cell_type": "code",
      "source": [
        "synth_preds = make_synth_accurate_data(y_pred, y_test, 0.14)\n",
        "roc_auc = roc_auc_score(y_test, synth_preds)\n",
        "log_loss_val = log_loss(y_test, synth_preds)\n",
        "\n",
        "# Log metrics to W&B\n",
        "synth_pred_thresholds, synth_pred_profits = profit_curve(y_test, synth_preds, payoff_matrix)\n",
        "log_profit_curve(synth_pred_thresholds, synth_pred_profits)\n",
        "synth_best_thresh, synth_best_profits = find_best_threshold_and_profit(synth_pred_thresholds, synth_pred_profits)\n",
        "print(f\"Ideal threshold is {synth_best_thresh:.2f} which yields profits of ${synth_best_profits:.0f}\")"
      ],
      "metadata": {
        "colab": {
          "base_uri": "https://localhost:8080/",
          "height": 640
        },
        "id": "YiYsDWgIKBPQ",
        "outputId": "9eb739ff-d95b-4457-bad2-013bc8a3a52c"
      },
      "execution_count": null,
      "outputs": [
        {
          "output_type": "stream",
          "name": "stdout",
          "text": [
            "closeness_factor: 0.14.   AUC of synthetic data: 0.90\n"
          ]
        },
        {
          "output_type": "display_data",
          "data": {
            "text/plain": [
              "<Figure size 1000x600 with 1 Axes>"
            ],
            "image/png": "[encoded data removed]"
          },
          "metadata": {}
        },
        {
          "output_type": "stream",
          "name": "stdout",
          "text": [
            "Ideal threshold is 0.14 which yields profits of $44880\n"
          ]
        }
      ]
    },
    {
      "cell_type": "markdown",
      "source": [
        "#### Adding different decision thresholds per costumer"
      ],
      "metadata": {
        "id": "4Qi8Msr5LZxi"
      }
    },
    {
      "cell_type": "code",
      "source": [
        "df.MonthlyCharges.hist()"
      ],
      "metadata": {
        "colab": {
          "base_uri": "https://localhost:8080/",
          "height": 466
        },
        "id": "p97JdijoLepR",
        "outputId": "103c9073-6a3d-49d2-f2eb-78d96ed423bb"
      },
      "execution_count": null,
      "outputs": [
        {
          "output_type": "execute_result",
          "data": {
            "text/plain": [
              "<Axes: >"
            ]
          },
          "metadata": {},
          "execution_count": 28
        },
        {
          "output_type": "display_data",
          "data": {
            "text/plain": [
              "<Figure size 640x480 with 1 Axes>"
            ],
            "image/png": "[encoded data removed]"
          },
          "metadata": {}
        }
      ]
    },
    {
      "cell_type": "code",
      "source": [
        "# Previously assumed this was 200 for all customers.\n",
        "# Mean MonthlyCharge is 68\n",
        "X_test[\"value_of_promoting_to_churning_customer\"] = df.MonthlyCharges * 3\n",
        "\n",
        "# Previously assumed this was -80 for all customers.\n",
        "X_test[\"cost_of_promoting_to_non_churning_customer\"] = -80"
      ],
      "metadata": {
        "id": "6nRht7JnLh7P"
      },
      "execution_count": null,
      "outputs": []
    },
    {
      "cell_type": "code",
      "source": [
        "def group_specific_profit_curve(X_test, y_test, y_pred, low_thresh, high_thresh):\n",
        "    in_group = (X_test.MonthlyCharges > low_thresh) & (\n",
        "        X_test.MonthlyCharges <= high_thresh\n",
        "    )\n",
        "    y_test_in_group = y_test[in_group]\n",
        "    y_pred_in_group = y_pred[in_group]\n",
        "    mean_monthly_charge = X_test.MonthlyCharges[in_group].mean()\n",
        "    payoff_matrix = np.array([[0, -80], [0, 3 * mean_monthly_charge]])\n",
        "    thresholds, profits = profit_curve(y_test_in_group, y_pred_in_group, payoff_matrix)\n",
        "    best_thresh, best_profits = find_best_threshold_and_profit(thresholds, profits)\n",
        "    return best_thresh, best_profits"
      ],
      "metadata": {
        "id": "Ckw1UmeLLjyS"
      },
      "execution_count": null,
      "outputs": []
    },
    {
      "cell_type": "markdown",
      "source": [
        "Divide customers into three groups and assign different thresholds for each"
      ],
      "metadata": {
        "id": "uy2P002ZLo5G"
      }
    },
    {
      "cell_type": "code",
      "source": [
        "# Find ideal threshold for customers paying less than $20/month\n",
        "thresh_low, profits_low = group_specific_profit_curve(X_test, y_test, y_pred, 0, 20)\n",
        "# Find ideal threshold for customers paying between $20 and $60/month\n",
        "thresh_medium, profits_medium = group_specific_profit_curve(\n",
        "    X_test, y_test, y_pred, 20, 60\n",
        ")\n",
        "# Find ideal threshold for customers paying between $60 and $100/month\n",
        "thresh_high, profits_high = group_specific_profit_curve(X_test, y_test, y_pred, 60, 100)\n",
        "# Find ideal threshold for customers paying more than $100/month\n",
        "thresh_very_high, profits_very_high = group_specific_profit_curve(\n",
        "    X_test, y_test, y_pred, 100, 200\n",
        ")\n",
        "\n",
        "print(\n",
        "    f\"\"\"\n",
        "With flexible thresholds, the profit is {(profits_low + profits_medium + profits_high + profits_very_high):.0f}.\n",
        "Previous profit was {best_profits}\"\"\"\n",
        ")"
      ],
      "metadata": {
        "colab": {
          "base_uri": "https://localhost:8080/"
        },
        "id": "Pvvlz9aLLnrn",
        "outputId": "e83c5361-1b2b-432e-c35d-75fadcc262c1"
      },
      "execution_count": null,
      "outputs": [
        {
          "output_type": "stream",
          "name": "stdout",
          "text": [
            "\n",
            "With flexible thresholds, the profit is 44919.\n",
            "Previous profit was 32360\n"
          ]
        }
      ]
    },
    {
      "cell_type": "markdown",
      "source": [
        "#### Use streamlit for deployment"
      ],
      "metadata": {
        "id": "vFrJVyLoOBrU"
      }
    },
    {
      "cell_type": "code",
      "source": [
        "!pip install streamlit"
      ],
      "metadata": {
        "id": "5Ip4imoPOBQ4"
      },
      "execution_count": null,
      "outputs": []
    },
    {
      "cell_type": "code",
      "source": [
        "import streamlit as st"
      ],
      "metadata": {
        "id": "pyZFckawOJzl"
      },
      "execution_count": null,
      "outputs": []
    },
    {
      "cell_type": "code",
      "source": [
        "# Create a copy of the original dataset\n",
        "data = df.copy()"
      ],
      "metadata": {
        "id": "xR5vqJOgOPNt"
      },
      "execution_count": null,
      "outputs": []
    },
    {
      "cell_type": "code",
      "source": [
        "%%writefile app.py\n",
        "\n",
        "# Title & Introduction\n",
        "st.title(\"Customer Churn Prediction Dashboard\")\n",
        "st.write(\n",
        "    \"This dashboard allows you to interact with a synthetic Telco customer churn dataset, \"\n",
        "    \"input customer data, and get predictions on whether a customer will churn or not.\"\n",
        ")\n",
        "\n",
        "# Data Overview Section\n",
        "st.subheader(\"Data Overview\")\n",
        "st.write(\"Here's a glimpse of the synthetic Telco customer churn dataset:\")\n",
        "# Displaying the synthetic dataset (first few rows)\n",
        "st.write(data.head())\n",
        "\n",
        "# Model Interaction Section (Placeholder for now)\n",
        "st.subheader(\"Predict Customer Churn\")\n",
        "st.write(\"Enter customer details to get a prediction:\")\n",
        "\n",
        "# Dummy input fields for the model (for demonstration purposes)\n",
        "tenure = st.slider(\"Tenure (in months)\", 0, 72, 12)\n",
        "phone_service = st.selectbox(\"Phone Service\", [\"Yes\", \"No\"])\n",
        "multiple_lines = st.selectbox(\"Multiple Lines\", [\"Yes\", \"No\"])\n",
        "internet_service = st.selectbox(\"Internet Service\", [\"DSL\", \"Fiber optic\", \"No\"])\n",
        "monthly_charges = st.slider(\"Monthly Charges ($)\", 0.0, 150.0, 50.0)\n",
        "\n",
        "# Mock prediction (for demonstration purposes)\n",
        "if st.button(\"Predict\"):\n",
        "    # This is just a mock prediction, in a real setup, you'd use the model to predict\n",
        "    st.write(\"Prediction: Customer will NOT churn.\")\n",
        "\n",
        "# Evaluation & Insights Section (Placeholder for now)\n",
        "st.subheader(\"Model Evaluation & Insights\")\n",
        "st.write(\"Key evaluation metrics and insights about the model will be displayed here.\")\n",
        "\n",
        "# Customer Segmentation & Insights (Placeholder for now)\n",
        "st.subheader(\"Customer Segmentation & Insights\")\n",
        "st.write(\"Visualizations and insights on customer segments will be displayed here.\")"
      ],
      "metadata": {
        "id": "eMI9wYISOI-w"
      },
      "execution_count": null,
      "outputs": []
    },
    {
      "cell_type": "code",
      "source": [
        "!npm install localtunnel # Install localtunnel to serve the Streamlit app"
      ],
      "metadata": {
        "colab": {
          "base_uri": "https://localhost:8080/"
        },
        "id": "AcBjqslaOUIU",
        "outputId": "04d4451e-4adb-4943-fa37-da47cd69cbad"
      },
      "execution_count": null,
      "outputs": [
        {
          "output_type": "stream",
          "name": "stdout",
          "text": [
            "\u001b[K\u001b[?25h\u001b[37;40mnpm\u001b[0m \u001b[0m\u001b[30;43mWARN\u001b[0m \u001b[0m\u001b[35msaveError\u001b[0m ENOENT: no such file or directory, open '/content/package.json'\n",
            "\u001b[K\u001b[?25h\u001b[37;40mnpm\u001b[0m \u001b[0m\u001b[34;40mnotice\u001b[0m\u001b[35m\u001b[0m created a lockfile as package-lock.json. You should commit this file.\n",
            "\u001b[0m\u001b[37;40mnpm\u001b[0m \u001b[0m\u001b[30;43mWARN\u001b[0m \u001b[0m\u001b[35menoent\u001b[0m ENOENT: no such file or directory, open '/content/package.json'\n",
            "\u001b[0m\u001b[37;40mnpm\u001b[0m \u001b[0m\u001b[30;43mWARN\u001b[0m\u001b[35m\u001b[0m content No description\n",
            "\u001b[0m\u001b[37;40mnpm\u001b[0m \u001b[0m\u001b[30;43mWARN\u001b[0m\u001b[35m\u001b[0m content No repository field.\n",
            "\u001b[0m\u001b[37;40mnpm\u001b[0m \u001b[0m\u001b[30;43mWARN\u001b[0m\u001b[35m\u001b[0m content No README data\n",
            "\u001b[0m\u001b[37;40mnpm\u001b[0m \u001b[0m\u001b[30;43mWARN\u001b[0m\u001b[35m\u001b[0m content No license field.\n",
            "\u001b[0m\n",
            "+ localtunnel@2.0.2\n",
            "added 22 packages from 22 contributors and audited 22 packages in 2.02s\n",
            "\n",
            "3 packages are looking for funding\n",
            "  run `npm fund` for details\n",
            "\n",
            "found \u001b[92m0\u001b[0m vulnerabilities\n",
            "\n",
            "\u001b[K\u001b[?25h"
          ]
        }
      ]
    },
    {
      "cell_type": "code",
      "source": [
        "import urllib\n",
        "print(\"Password/Enpoint IP for localtunnel is:\",urllib.request.urlopen('https://ipv4.icanhazip.com').read().decode('utf8').strip(\"\\n\"))"
      ],
      "metadata": {
        "colab": {
          "base_uri": "https://localhost:8080/"
        },
        "id": "iY2_HwYnPjf_",
        "outputId": "b1227b2a-f36d-41ad-96be-9afef3f70810"
      },
      "execution_count": null,
      "outputs": [
        {
          "output_type": "stream",
          "name": "stdout",
          "text": [
            "Password/Enpoint IP for localtunnel is: 35.221.9.227\n"
          ]
        }
      ]
    },
    {
      "cell_type": "code",
      "source": [
        "!streamlit run app.py &>/content/logs.txt &"
      ],
      "metadata": {
        "id": "wvlTWwwyO0aS"
      },
      "execution_count": null,
      "outputs": []
    },
    {
      "cell_type": "code",
      "source": [
        "!npx localtunnel --port 8501"
      ],
      "metadata": {
        "colab": {
          "base_uri": "https://localhost:8080/"
        },
        "id": "Ad08YBMzO1ue",
        "outputId": "ef34ac0f-18fe-45bf-ca36-8fc92e732fa3"
      },
      "execution_count": null,
      "outputs": [
        {
          "output_type": "stream",
          "name": "stdout",
          "text": [
            "\u001b[K\u001b[?25hnpx: installed 22 in 1.653s\n",
            "your url is: https://easy-turkeys-relax.loca.lt\n",
            "^C\n"
          ]
        }
      ]
    },
    {
      "cell_type": "code",
      "source": [],
      "metadata": {
        "id": "8i0M4cCiPjBo"
      },
      "execution_count": null,
      "outputs": []
    }
  ]
}