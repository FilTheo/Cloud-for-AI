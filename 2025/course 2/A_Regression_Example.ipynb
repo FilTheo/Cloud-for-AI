{
  "nbformat": 4,
  "nbformat_minor": 0,
  "metadata": {
    "colab": {
      "provenance": []
    },
    "kernelspec": {
      "name": "python3",
      "display_name": "Python 3"
    },
    "language_info": {
      "name": "python"
    }
  },
  "cells": [
    {
      "cell_type": "markdown",
      "source": [
        "Example reference: Machine Learning with Pytorch and Scikit-Learn by Sebastian Raschka, Yuxi (Hayden) Lie and Vahid Mirjalili"
      ],
      "metadata": {
        "id": "VKHwP4s6pdsB"
      }
    },
    {
      "cell_type": "markdown",
      "source": [
        "## Regression Models"
      ],
      "metadata": {
        "id": "jFMsffu0nEFT"
      }
    },
    {
      "cell_type": "markdown",
      "source": [
        "Regression models are used to predict target variables on a continuous scales. They have many applications in industry such us forecasting the sales of a company in the future months."
      ],
      "metadata": {
        "id": "aZgSEmXFnHAe"
      }
    },
    {
      "cell_type": "markdown",
      "source": [
        "### Linear Regression\n",
        "\n",
        "The goal of linear regression is to model the relationship between one or multiple features X and a continuous target varible y.\n",
        "\n"
      ],
      "metadata": {
        "id": "7PcNOgWanVUq"
      }
    },
    {
      "cell_type": "markdown",
      "source": [
        "#### Simple Linear Regression\n",
        "\n",
        "The goal of the simple (univariate) linear regression is to model the relationship between a single feature (explanatory varible, x) and a continuous target y. The equation of al inear model with one explanatory variable is:\n",
        "\n",
        "$y = w_1x + b$\n",
        "\n",
        "Here the paramater (bias) $b$, represents the y axis intercept and $w_1$ is the weight coefficient of the explanatary variable.\n",
        "\n",
        "The goal is to learn the weight of the linear equations to perfectly describe the relationship between x and y.\n",
        "\n",
        "In other words, find the perfect straight line."
      ],
      "metadata": {
        "id": "wfWAwy83nj-V"
      }
    },
    {
      "cell_type": "markdown",
      "source": [
        "#### Multiple Linear Regression\n",
        "\n",
        "Simple linear regression is a special case of Linear regression with just one variable. We can generalize and get the general formula:\n",
        "\n",
        "$y = w_1x_1 + ... + w_mx_m + b = ∑_{i=1}^{m} = w_ix_i + b = w^{T}x _ b$"
      ],
      "metadata": {
        "id": "klczLM9DoXE-"
      }
    },
    {
      "cell_type": "markdown",
      "source": [
        "## The Ames Housing dataset\n",
        "\n",
        "In this section, we will load the Ames Housing dataset using the pandas *read_csv* function, which is fast and veratile. A recommended tool for working with tabular data stored ina plaintext format.\n",
        "\n",
        "The Ames Housing dataset consists of 2930 examples and 80 features. For simplicity, we will only work with a subset of the features, shown in the following list. However, if you are curious, follow the link to the full dataset description provided at the beginning of the section.\n",
        "\n",
        "The features we will be working with, including the target varible are as follows:\n",
        "\n",
        "* Overal Qual: Rating for the overall material and finish of the house on a scale from 1 (very poor) to 10 (excelent)\n",
        "* Overal Cond: Rating for the overall condition of the house on a scale from 1 (very poor) to 10 (excelent)\n",
        "* Gr Liv Area: Above grade (ground) living area in square feet\n",
        "* Central Air: Centrail air conditining (N = no, Y = yes)\n",
        "* Total Bsmt SF: Total square feet of the basement area\n",
        "* SalePrice: Sale price in US dollars.\n",
        "\n",
        "SalePrice is the target variable. The variable we want to predict."
      ],
      "metadata": {
        "id": "hDBHTQWMpH1R"
      }
    },
    {
      "cell_type": "markdown",
      "source": [
        "* Dataset source: http://jse.amstat.org/v19n3/decock/AmesHousing.txt\n",
        "* Dataset documentation: http://jse.amstat.org/v19n3/decock/DataDocumentation.txt\n",
        "* Dataset write-up: http://jse.amstat.org/v19n3/decock.pdf"
      ],
      "metadata": {
        "id": "tv4v_2CdqrIZ"
      }
    },
    {
      "cell_type": "code",
      "source": [
        "import pandas as pd\n",
        "\n",
        "\n",
        "columns = ['Overall Qual', 'Overall Cond', 'Gr Liv Area',\n",
        "           'Central Air', 'Total Bsmt SF', 'SalePrice']\n"
      ],
      "metadata": {
        "id": "IwvjtRWOq1-p"
      },
      "execution_count": null,
      "outputs": []
    },
    {
      "cell_type": "code",
      "source": [
        "df = pd.read_csv('http://jse.amstat.org/v19n3/decock/AmesHousing.txt',\n",
        "                 sep='\\t',\n",
        "                 usecols=columns)\n",
        "\n",
        "df.head()"
      ],
      "metadata": {
        "colab": {
          "base_uri": "https://localhost:8080/",
          "height": 206
        },
        "id": "n20uWxQmq5sI",
        "outputId": "e6ac7537-6910-4859-8a48-4e37aeb9382f"
      },
      "execution_count": null,
      "outputs": [
        {
          "output_type": "execute_result",
          "data": {
            "text/plain": [
              "   Overall Qual  Overall Cond  Total Bsmt SF Central Air  Gr Liv Area  \\\n",
              "0             6             5         1080.0           Y         1656   \n",
              "1             5             6          882.0           Y          896   \n",
              "2             6             6         1329.0           Y         1329   \n",
              "3             7             5         2110.0           Y         2110   \n",
              "4             5             5          928.0           Y         1629   \n",
              "\n",
              "   SalePrice  \n",
              "0     215000  \n",
              "1     105000  \n",
              "2     172000  \n",
              "3     244000  \n",
              "4     189900  "
            ],
            "text/html": [
              "\n",
              "  <div id=\"df-ce419de6-e779-4b9e-a4cf-4ea7a7b16363\" class=\"colab-df-container\">\n",
              "    <div>\n",
              "<style scoped>\n",
              "    .dataframe tbody tr th:only-of-type {\n",
              "        vertical-align: middle;\n",
              "    }\n",
              "\n",
              "    .dataframe tbody tr th {\n",
              "        vertical-align: top;\n",
              "    }\n",
              "\n",
              "    .dataframe thead th {\n",
              "        text-align: right;\n",
              "    }\n",
              "</style>\n",
              "<table border=\"1\" class=\"dataframe\">\n",
              "  <thead>\n",
              "    <tr style=\"text-align: right;\">\n",
              "      <th></th>\n",
              "      <th>Overall Qual</th>\n",
              "      <th>Overall Cond</th>\n",
              "      <th>Total Bsmt SF</th>\n",
              "      <th>Central Air</th>\n",
              "      <th>Gr Liv Area</th>\n",
              "      <th>SalePrice</th>\n",
              "    </tr>\n",
              "  </thead>\n",
              "  <tbody>\n",
              "    <tr>\n",
              "      <th>0</th>\n",
              "      <td>6</td>\n",
              "      <td>5</td>\n",
              "      <td>1080.0</td>\n",
              "      <td>Y</td>\n",
              "      <td>1656</td>\n",
              "      <td>215000</td>\n",
              "    </tr>\n",
              "    <tr>\n",
              "      <th>1</th>\n",
              "      <td>5</td>\n",
              "      <td>6</td>\n",
              "      <td>882.0</td>\n",
              "      <td>Y</td>\n",
              "      <td>896</td>\n",
              "      <td>105000</td>\n",
              "    </tr>\n",
              "    <tr>\n",
              "      <th>2</th>\n",
              "      <td>6</td>\n",
              "      <td>6</td>\n",
              "      <td>1329.0</td>\n",
              "      <td>Y</td>\n",
              "      <td>1329</td>\n",
              "      <td>172000</td>\n",
              "    </tr>\n",
              "    <tr>\n",
              "      <th>3</th>\n",
              "      <td>7</td>\n",
              "      <td>5</td>\n",
              "      <td>2110.0</td>\n",
              "      <td>Y</td>\n",
              "      <td>2110</td>\n",
              "      <td>244000</td>\n",
              "    </tr>\n",
              "    <tr>\n",
              "      <th>4</th>\n",
              "      <td>5</td>\n",
              "      <td>5</td>\n",
              "      <td>928.0</td>\n",
              "      <td>Y</td>\n",
              "      <td>1629</td>\n",
              "      <td>189900</td>\n",
              "    </tr>\n",
              "  </tbody>\n",
              "</table>\n",
              "</div>\n",
              "    <div class=\"colab-df-buttons\">\n",
              "\n",
              "  <div class=\"colab-df-container\">\n",
              "    <button class=\"colab-df-convert\" onclick=\"convertToInteractive('df-ce419de6-e779-4b9e-a4cf-4ea7a7b16363')\"\n",
              "            title=\"Convert this dataframe to an interactive table.\"\n",
              "            style=\"display:none;\">\n",
              "\n",
              "  <svg xmlns=\"http://www.w3.org/2000/svg\" height=\"24px\" viewBox=\"0 -960 960 960\">\n",
              "    <path d=\"M120-120v-720h720v720H120Zm60-500h600v-160H180v160Zm220 220h160v-160H400v160Zm0 220h160v-160H400v160ZM180-400h160v-160H180v160Zm440 0h160v-160H620v160ZM180-180h160v-160H180v160Zm440 0h160v-160H620v160Z\"/>\n",
              "  </svg>\n",
              "    </button>\n",
              "\n",
              "  <style>\n",
              "    .colab-df-container {\n",
              "      display:flex;\n",
              "      gap: 12px;\n",
              "    }\n",
              "\n",
              "    .colab-df-convert {\n",
              "      background-color: #E8F0FE;\n",
              "      border: none;\n",
              "      border-radius: 50%;\n",
              "      cursor: pointer;\n",
              "      display: none;\n",
              "      fill: #1967D2;\n",
              "      height: 32px;\n",
              "      padding: 0 0 0 0;\n",
              "      width: 32px;\n",
              "    }\n",
              "\n",
              "    .colab-df-convert:hover {\n",
              "      background-color: #E2EBFA;\n",
              "      box-shadow: 0px 1px 2px rgba(60, 64, 67, 0.3), 0px 1px 3px 1px rgba(60, 64, 67, 0.15);\n",
              "      fill: #174EA6;\n",
              "    }\n",
              "\n",
              "    .colab-df-buttons div {\n",
              "      margin-bottom: 4px;\n",
              "    }\n",
              "\n",
              "    [theme=dark] .colab-df-convert {\n",
              "      background-color: #3B4455;\n",
              "      fill: #D2E3FC;\n",
              "    }\n",
              "\n",
              "    [theme=dark] .colab-df-convert:hover {\n",
              "      background-color: #434B5C;\n",
              "      box-shadow: 0px 1px 3px 1px rgba(0, 0, 0, 0.15);\n",
              "      filter: drop-shadow(0px 1px 2px rgba(0, 0, 0, 0.3));\n",
              "      fill: #FFFFFF;\n",
              "    }\n",
              "  </style>\n",
              "\n",
              "    <script>\n",
              "      const buttonEl =\n",
              "        document.querySelector('#df-ce419de6-e779-4b9e-a4cf-4ea7a7b16363 button.colab-df-convert');\n",
              "      buttonEl.style.display =\n",
              "        google.colab.kernel.accessAllowed ? 'block' : 'none';\n",
              "\n",
              "      async function convertToInteractive(key) {\n",
              "        const element = document.querySelector('#df-ce419de6-e779-4b9e-a4cf-4ea7a7b16363');\n",
              "        const dataTable =\n",
              "          await google.colab.kernel.invokeFunction('convertToInteractive',\n",
              "                                                    [key], {});\n",
              "        if (!dataTable) return;\n",
              "\n",
              "        const docLinkHtml = 'Like what you see? Visit the ' +\n",
              "          '<a target=\"_blank\" href=https://colab.research.google.com/notebooks/data_table.ipynb>data table notebook</a>'\n",
              "          + ' to learn more about interactive tables.';\n",
              "        element.innerHTML = '';\n",
              "        dataTable['output_type'] = 'display_data';\n",
              "        await google.colab.output.renderOutput(dataTable, element);\n",
              "        const docLink = document.createElement('div');\n",
              "        docLink.innerHTML = docLinkHtml;\n",
              "        element.appendChild(docLink);\n",
              "      }\n",
              "    </script>\n",
              "  </div>\n",
              "\n",
              "\n",
              "<div id=\"df-bc10f8f3-13a1-499a-aa8e-5276fb156a1b\">\n",
              "  <button class=\"colab-df-quickchart\" onclick=\"quickchart('df-bc10f8f3-13a1-499a-aa8e-5276fb156a1b')\"\n",
              "            title=\"Suggest charts\"\n",
              "            style=\"display:none;\">\n",
              "\n",
              "<svg xmlns=\"http://www.w3.org/2000/svg\" height=\"24px\"viewBox=\"0 0 24 24\"\n",
              "     width=\"24px\">\n",
              "    <g>\n",
              "        <path d=\"M19 3H5c-1.1 0-2 .9-2 2v14c0 1.1.9 2 2 2h14c1.1 0 2-.9 2-2V5c0-1.1-.9-2-2-2zM9 17H7v-7h2v7zm4 0h-2V7h2v10zm4 0h-2v-4h2v4z\"/>\n",
              "    </g>\n",
              "</svg>\n",
              "  </button>\n",
              "\n",
              "<style>\n",
              "  .colab-df-quickchart {\n",
              "      --bg-color: #E8F0FE;\n",
              "      --fill-color: #1967D2;\n",
              "      --hover-bg-color: #E2EBFA;\n",
              "      --hover-fill-color: #174EA6;\n",
              "      --disabled-fill-color: #AAA;\n",
              "      --disabled-bg-color: #DDD;\n",
              "  }\n",
              "\n",
              "  [theme=dark] .colab-df-quickchart {\n",
              "      --bg-color: #3B4455;\n",
              "      --fill-color: #D2E3FC;\n",
              "      --hover-bg-color: #434B5C;\n",
              "      --hover-fill-color: #FFFFFF;\n",
              "      --disabled-bg-color: #3B4455;\n",
              "      --disabled-fill-color: #666;\n",
              "  }\n",
              "\n",
              "  .colab-df-quickchart {\n",
              "    background-color: var(--bg-color);\n",
              "    border: none;\n",
              "    border-radius: 50%;\n",
              "    cursor: pointer;\n",
              "    display: none;\n",
              "    fill: var(--fill-color);\n",
              "    height: 32px;\n",
              "    padding: 0;\n",
              "    width: 32px;\n",
              "  }\n",
              "\n",
              "  .colab-df-quickchart:hover {\n",
              "    background-color: var(--hover-bg-color);\n",
              "    box-shadow: 0 1px 2px rgba(60, 64, 67, 0.3), 0 1px 3px 1px rgba(60, 64, 67, 0.15);\n",
              "    fill: var(--button-hover-fill-color);\n",
              "  }\n",
              "\n",
              "  .colab-df-quickchart-complete:disabled,\n",
              "  .colab-df-quickchart-complete:disabled:hover {\n",
              "    background-color: var(--disabled-bg-color);\n",
              "    fill: var(--disabled-fill-color);\n",
              "    box-shadow: none;\n",
              "  }\n",
              "\n",
              "  .colab-df-spinner {\n",
              "    border: 2px solid var(--fill-color);\n",
              "    border-color: transparent;\n",
              "    border-bottom-color: var(--fill-color);\n",
              "    animation:\n",
              "      spin 1s steps(1) infinite;\n",
              "  }\n",
              "\n",
              "  @keyframes spin {\n",
              "    0% {\n",
              "      border-color: transparent;\n",
              "      border-bottom-color: var(--fill-color);\n",
              "      border-left-color: var(--fill-color);\n",
              "    }\n",
              "    20% {\n",
              "      border-color: transparent;\n",
              "      border-left-color: var(--fill-color);\n",
              "      border-top-color: var(--fill-color);\n",
              "    }\n",
              "    30% {\n",
              "      border-color: transparent;\n",
              "      border-left-color: var(--fill-color);\n",
              "      border-top-color: var(--fill-color);\n",
              "      border-right-color: var(--fill-color);\n",
              "    }\n",
              "    40% {\n",
              "      border-color: transparent;\n",
              "      border-right-color: var(--fill-color);\n",
              "      border-top-color: var(--fill-color);\n",
              "    }\n",
              "    60% {\n",
              "      border-color: transparent;\n",
              "      border-right-color: var(--fill-color);\n",
              "    }\n",
              "    80% {\n",
              "      border-color: transparent;\n",
              "      border-right-color: var(--fill-color);\n",
              "      border-bottom-color: var(--fill-color);\n",
              "    }\n",
              "    90% {\n",
              "      border-color: transparent;\n",
              "      border-bottom-color: var(--fill-color);\n",
              "    }\n",
              "  }\n",
              "</style>\n",
              "\n",
              "  <script>\n",
              "    async function quickchart(key) {\n",
              "      const quickchartButtonEl =\n",
              "        document.querySelector('#' + key + ' button');\n",
              "      quickchartButtonEl.disabled = true;  // To prevent multiple clicks.\n",
              "      quickchartButtonEl.classList.add('colab-df-spinner');\n",
              "      try {\n",
              "        const charts = await google.colab.kernel.invokeFunction(\n",
              "            'suggestCharts', [key], {});\n",
              "      } catch (error) {\n",
              "        console.error('Error during call to suggestCharts:', error);\n",
              "      }\n",
              "      quickchartButtonEl.classList.remove('colab-df-spinner');\n",
              "      quickchartButtonEl.classList.add('colab-df-quickchart-complete');\n",
              "    }\n",
              "    (() => {\n",
              "      let quickchartButtonEl =\n",
              "        document.querySelector('#df-bc10f8f3-13a1-499a-aa8e-5276fb156a1b button');\n",
              "      quickchartButtonEl.style.display =\n",
              "        google.colab.kernel.accessAllowed ? 'block' : 'none';\n",
              "    })();\n",
              "  </script>\n",
              "</div>\n",
              "\n",
              "    </div>\n",
              "  </div>\n"
            ],
            "application/vnd.google.colaboratory.intrinsic+json": {
              "type": "dataframe",
              "variable_name": "df",
              "summary": "{\n  \"name\": \"df\",\n  \"rows\": 2930,\n  \"fields\": [\n    {\n      \"column\": \"Overall Qual\",\n      \"properties\": {\n        \"dtype\": \"number\",\n        \"std\": 1,\n        \"min\": 1,\n        \"max\": 10,\n        \"num_unique_values\": 10,\n        \"samples\": [\n          10,\n          5,\n          4\n        ],\n        \"semantic_type\": \"\",\n        \"description\": \"\"\n      }\n    },\n    {\n      \"column\": \"Overall Cond\",\n      \"properties\": {\n        \"dtype\": \"number\",\n        \"std\": 1,\n        \"min\": 1,\n        \"max\": 9,\n        \"num_unique_values\": 9,\n        \"samples\": [\n          3,\n          6,\n          4\n        ],\n        \"semantic_type\": \"\",\n        \"description\": \"\"\n      }\n    },\n    {\n      \"column\": \"Total Bsmt SF\",\n      \"properties\": {\n        \"dtype\": \"number\",\n        \"std\": 440.61506696179663,\n        \"min\": 0.0,\n        \"max\": 6110.0,\n        \"num_unique_values\": 1058,\n        \"samples\": [\n          849.0,\n          1176.0,\n          1082.0\n        ],\n        \"semantic_type\": \"\",\n        \"description\": \"\"\n      }\n    },\n    {\n      \"column\": \"Central Air\",\n      \"properties\": {\n        \"dtype\": \"category\",\n        \"num_unique_values\": 2,\n        \"samples\": [\n          \"N\",\n          \"Y\"\n        ],\n        \"semantic_type\": \"\",\n        \"description\": \"\"\n      }\n    },\n    {\n      \"column\": \"Gr Liv Area\",\n      \"properties\": {\n        \"dtype\": \"number\",\n        \"std\": 505,\n        \"min\": 334,\n        \"max\": 5642,\n        \"num_unique_values\": 1292,\n        \"samples\": [\n          1600,\n          1297\n        ],\n        \"semantic_type\": \"\",\n        \"description\": \"\"\n      }\n    },\n    {\n      \"column\": \"SalePrice\",\n      \"properties\": {\n        \"dtype\": \"number\",\n        \"std\": 79886,\n        \"min\": 12789,\n        \"max\": 755000,\n        \"num_unique_values\": 1032,\n        \"samples\": [\n          159000,\n          194500\n        ],\n        \"semantic_type\": \"\",\n        \"description\": \"\"\n      }\n    }\n  ]\n}"
            }
          },
          "metadata": {},
          "execution_count": 2
        }
      ]
    },
    {
      "cell_type": "code",
      "source": [
        "# Lets explore the dimensions\n",
        "df.shape"
      ],
      "metadata": {
        "colab": {
          "base_uri": "https://localhost:8080/"
        },
        "id": "s2-Xc2f3q6wI",
        "outputId": "c5359e17-1695-4115-b59e-411f02e42965"
      },
      "execution_count": null,
      "outputs": [
        {
          "output_type": "execute_result",
          "data": {
            "text/plain": [
              "(2930, 6)"
            ]
          },
          "metadata": {},
          "execution_count": 3
        }
      ]
    },
    {
      "cell_type": "markdown",
      "source": [
        "Some basic preprocessing.\n",
        "\n",
        "As maintioned preprocessing is very important before training an algorithm.\n",
        "\n",
        "In our case the \"Central Air\" Column has string values. We will convert to integers"
      ],
      "metadata": {
        "id": "D0ajtxairFQD"
      }
    },
    {
      "cell_type": "code",
      "source": [
        "df['Central Air'] = df['Central Air'].map({'N': 0, 'Y': 1})"
      ],
      "metadata": {
        "id": "ZIgKHsV3rC1H"
      },
      "execution_count": null,
      "outputs": []
    },
    {
      "cell_type": "markdown",
      "source": [
        "Lets check for missing data"
      ],
      "metadata": {
        "id": "Sv5AZD_zrSD0"
      }
    },
    {
      "cell_type": "code",
      "source": [
        "df.isnull().sum()"
      ],
      "metadata": {
        "colab": {
          "base_uri": "https://localhost:8080/",
          "height": 272
        },
        "id": "PnAuKYB1rTbM",
        "outputId": "366abeeb-1078-4ac3-c222-f720b7f359ef"
      },
      "execution_count": null,
      "outputs": [
        {
          "output_type": "execute_result",
          "data": {
            "text/plain": [
              "Overall Qual     0\n",
              "Overall Cond     0\n",
              "Total Bsmt SF    1\n",
              "Central Air      0\n",
              "Gr Liv Area      0\n",
              "SalePrice        0\n",
              "dtype: int64"
            ],
            "text/html": [
              "<div>\n",
              "<style scoped>\n",
              "    .dataframe tbody tr th:only-of-type {\n",
              "        vertical-align: middle;\n",
              "    }\n",
              "\n",
              "    .dataframe tbody tr th {\n",
              "        vertical-align: top;\n",
              "    }\n",
              "\n",
              "    .dataframe thead th {\n",
              "        text-align: right;\n",
              "    }\n",
              "</style>\n",
              "<table border=\"1\" class=\"dataframe\">\n",
              "  <thead>\n",
              "    <tr style=\"text-align: right;\">\n",
              "      <th></th>\n",
              "      <th>0</th>\n",
              "    </tr>\n",
              "  </thead>\n",
              "  <tbody>\n",
              "    <tr>\n",
              "      <th>Overall Qual</th>\n",
              "      <td>0</td>\n",
              "    </tr>\n",
              "    <tr>\n",
              "      <th>Overall Cond</th>\n",
              "      <td>0</td>\n",
              "    </tr>\n",
              "    <tr>\n",
              "      <th>Total Bsmt SF</th>\n",
              "      <td>1</td>\n",
              "    </tr>\n",
              "    <tr>\n",
              "      <th>Central Air</th>\n",
              "      <td>0</td>\n",
              "    </tr>\n",
              "    <tr>\n",
              "      <th>Gr Liv Area</th>\n",
              "      <td>0</td>\n",
              "    </tr>\n",
              "    <tr>\n",
              "      <th>SalePrice</th>\n",
              "      <td>0</td>\n",
              "    </tr>\n",
              "  </tbody>\n",
              "</table>\n",
              "</div><br><label><b>dtype:</b> int64</label>"
            ]
          },
          "metadata": {},
          "execution_count": 5
        }
      ]
    },
    {
      "cell_type": "markdown",
      "source": [
        "Remove rows that contain missing values"
      ],
      "metadata": {
        "id": "zWHN08vOrV1D"
      }
    },
    {
      "cell_type": "code",
      "source": [
        "# remove rows that contain missing values\n",
        "\n",
        "df = df.dropna(axis=0)\n",
        "df.isnull().sum()"
      ],
      "metadata": {
        "colab": {
          "base_uri": "https://localhost:8080/",
          "height": 272
        },
        "id": "7-ooaJlCrXej",
        "outputId": "9ff5f26c-8f1f-4a8d-9acc-2aea8db32fd6"
      },
      "execution_count": null,
      "outputs": [
        {
          "output_type": "execute_result",
          "data": {
            "text/plain": [
              "Overall Qual     0\n",
              "Overall Cond     0\n",
              "Total Bsmt SF    0\n",
              "Central Air      0\n",
              "Gr Liv Area      0\n",
              "SalePrice        0\n",
              "dtype: int64"
            ],
            "text/html": [
              "<div>\n",
              "<style scoped>\n",
              "    .dataframe tbody tr th:only-of-type {\n",
              "        vertical-align: middle;\n",
              "    }\n",
              "\n",
              "    .dataframe tbody tr th {\n",
              "        vertical-align: top;\n",
              "    }\n",
              "\n",
              "    .dataframe thead th {\n",
              "        text-align: right;\n",
              "    }\n",
              "</style>\n",
              "<table border=\"1\" class=\"dataframe\">\n",
              "  <thead>\n",
              "    <tr style=\"text-align: right;\">\n",
              "      <th></th>\n",
              "      <th>0</th>\n",
              "    </tr>\n",
              "  </thead>\n",
              "  <tbody>\n",
              "    <tr>\n",
              "      <th>Overall Qual</th>\n",
              "      <td>0</td>\n",
              "    </tr>\n",
              "    <tr>\n",
              "      <th>Overall Cond</th>\n",
              "      <td>0</td>\n",
              "    </tr>\n",
              "    <tr>\n",
              "      <th>Total Bsmt SF</th>\n",
              "      <td>0</td>\n",
              "    </tr>\n",
              "    <tr>\n",
              "      <th>Central Air</th>\n",
              "      <td>0</td>\n",
              "    </tr>\n",
              "    <tr>\n",
              "      <th>Gr Liv Area</th>\n",
              "      <td>0</td>\n",
              "    </tr>\n",
              "    <tr>\n",
              "      <th>SalePrice</th>\n",
              "      <td>0</td>\n",
              "    </tr>\n",
              "  </tbody>\n",
              "</table>\n",
              "</div><br><label><b>dtype:</b> int64</label>"
            ]
          },
          "metadata": {},
          "execution_count": 6
        }
      ]
    },
    {
      "cell_type": "markdown",
      "source": [
        "### Implement Linear Regression from Scratch\n",
        "\n",
        "**Loss Function**\n",
        "\n",
        "Before jumping into the implementation, lets define our loss: Mean Squared Error (MSE)\n",
        "\n",
        "$L(w,b) = \\frac{1}{2m}\\sum_{i=1}^{m}(y_i - \\hat{y_i})^2$\n",
        "\n",
        "Here $\\hat{y_i}$ is the predicted value."
      ],
      "metadata": {
        "id": "xsrYkRuGrbwb"
      }
    },
    {
      "cell_type": "code",
      "source": [
        "import numpy as np # Library for mathematical operations"
      ],
      "metadata": {
        "id": "TZ1qs7WmsUh_"
      },
      "execution_count": null,
      "outputs": []
    },
    {
      "cell_type": "code",
      "source": [
        "# Linear regression from scratch\n",
        "\n",
        "class LinearRegressionGD:\n",
        "  # eta is the learning rate used in Stochastic Gradient Descent\n",
        "  # n_iter is the number of itteration we train our model to minimize the loss function\n",
        "    def __init__(self, eta=0.01, n_iter=50, random_state=1):\n",
        "        self.eta = eta\n",
        "        self.n_iter = n_iter\n",
        "        self.random_state = random_state\n",
        "\n",
        "    def fit(self, X, y):\n",
        "        rgen = np.random.RandomState(self.random_state)\n",
        "        # Define the weights and the bias\n",
        "        self.w_ = rgen.normal(loc=0.0, scale=0.01, size=X.shape[1])\n",
        "        self.b_ = np.array([0.])\n",
        "        # This is the loss function\n",
        "        self.losses_ = []\n",
        "\n",
        "        # Itterate over the total epochs\n",
        "        for i in range(self.n_iter):\n",
        "            output = self.net_input(X)\n",
        "            errors = (y - output)\n",
        "            # update weights\n",
        "            self.w_ += self.eta * 2.0 * X.T.dot(errors) / X.shape[0]\n",
        "            self.b_ += self.eta * 2.0 * errors.mean()\n",
        "            loss = (errors**2).mean()\n",
        "            self.losses_.append(loss)\n",
        "        return self\n",
        "\n",
        "    def net_input(self, X):\n",
        "        return np.dot(X, self.w_) + self.b_\n",
        "  # This is to make predictions\n",
        "    def predict(self, X):\n",
        "        return self.net_input(X)"
      ],
      "metadata": {
        "id": "hIYtVIsdrgD8"
      },
      "execution_count": null,
      "outputs": []
    },
    {
      "cell_type": "markdown",
      "source": [
        "#### Note!\n",
        "\n",
        "This is important!\n",
        "Here I assume you know how gradient descent works. If not please let me know!\n",
        "\n",
        "This is a very good visual tutorial: https://www.youtube.com/watch?v=sDv4f4s2SB8&ab_channel=StatQuestwithJoshStarmer"
      ],
      "metadata": {
        "id": "T1jI8O8nsl1m"
      }
    },
    {
      "cell_type": "markdown",
      "source": [
        "Now lets implement linear regression"
      ],
      "metadata": {
        "id": "Sx-dDkgNtl8-"
      }
    },
    {
      "cell_type": "code",
      "source": [
        "# Will only use one features here for visualization purposes\n",
        "\n",
        "# Define X and y variables\n",
        "X = df[['Gr Liv Area']].values\n",
        "y = df['SalePrice'].values"
      ],
      "metadata": {
        "id": "ZqBAbl4Tsljo"
      },
      "execution_count": null,
      "outputs": []
    },
    {
      "cell_type": "markdown",
      "source": [
        "We also standarize our data!!\n",
        "\n",
        "Another very important concept in Machine Learning.\n",
        "\n",
        "Questions here for Standarization??"
      ],
      "metadata": {
        "id": "7SnWkynPtzFZ"
      }
    },
    {
      "cell_type": "code",
      "source": [
        "from sklearn.preprocessing import StandardScaler\n",
        "\n",
        "sc_x = StandardScaler()\n",
        "sc_y = StandardScaler()\n",
        "X_std = sc_x.fit_transform(X)\n",
        "y_std = sc_y.fit_transform(y[:, np.newaxis]).flatten()"
      ],
      "metadata": {
        "id": "fEpBNOW9tx_m"
      },
      "execution_count": null,
      "outputs": []
    },
    {
      "cell_type": "code",
      "source": [
        "# Define and fit the Linear Regresion\n",
        "lr = LinearRegressionGD(eta=0.1)\n",
        "lr.fit(X_std, y_std)"
      ],
      "metadata": {
        "colab": {
          "base_uri": "https://localhost:8080/"
        },
        "id": "WZwWK5but610",
        "outputId": "558fa9d4-86c6-46ca-a054-5da98ba1cd90"
      },
      "execution_count": null,
      "outputs": [
        {
          "output_type": "execute_result",
          "data": {
            "text/plain": [
              "<__main__.LinearRegressionGD at 0x79cff9027be0>"
            ]
          },
          "metadata": {},
          "execution_count": 11
        }
      ]
    },
    {
      "cell_type": "markdown",
      "source": [
        "Lets plot the loss function to check if we are minimizing it with more itterations"
      ],
      "metadata": {
        "id": "yLgvTZ7wuCIu"
      }
    },
    {
      "cell_type": "code",
      "source": [
        "import matplotlib.pyplot as plt"
      ],
      "metadata": {
        "id": "ch7GyG54uI41"
      },
      "execution_count": null,
      "outputs": []
    },
    {
      "cell_type": "code",
      "source": [
        "plt.plot(range(1, lr.n_iter+1), lr.losses_)\n",
        "plt.ylabel('MSE')\n",
        "plt.xlabel('Epoch')\n",
        "plt.tight_layout()\n",
        "#plt.savefig('figures/09_06.png', dpi=300)\n",
        "plt.show()"
      ],
      "metadata": {
        "colab": {
          "base_uri": "https://localhost:8080/",
          "height": 486
        },
        "id": "LzQyW6YVt_9O",
        "outputId": "32a4e336-15ca-428e-c7db-fbd056bb16be"
      },
      "execution_count": null,
      "outputs": [
        {
          "output_type": "display_data",
          "data": {
            "text/plain": [
              "<Figure size 640x480 with 1 Axes>"
            ],
            "image/png": "[encoded data removed]"
          },
          "metadata": {}
        }
      ]
    },
    {
      "cell_type": "markdown",
      "source": [
        "Good! The algorithm converged approximately after 10 epochs\n",
        "\n",
        "Now lets visualize how well the model has fitted on the given data"
      ],
      "metadata": {
        "id": "XpGZEHw1uOcZ"
      }
    },
    {
      "cell_type": "code",
      "source": [
        "def lin_regplot(X, y, model):\n",
        "    plt.scatter(X, y, c='steelblue', edgecolor='white', s=70)\n",
        "    plt.plot(X, model.predict(X), color='black', lw=2)\n",
        "    return"
      ],
      "metadata": {
        "id": "7c7GF6qZuV4p"
      },
      "execution_count": null,
      "outputs": []
    },
    {
      "cell_type": "code",
      "source": [
        "lin_regplot(X_std, y_std, lr)\n",
        "plt.xlabel('Living area above ground (standardized)')\n",
        "plt.ylabel('Sale price (standardized)')\n",
        "\n",
        "#plt.savefig('figures/09_07.png', dpi=300)\n",
        "plt.show()"
      ],
      "metadata": {
        "colab": {
          "base_uri": "https://localhost:8080/",
          "height": 449
        },
        "id": "fb1k5l06uXgF",
        "outputId": "6398b0f5-7ed8-4ffe-aad9-1b954b88e68f"
      },
      "execution_count": null,
      "outputs": [
        {
          "output_type": "display_data",
          "data": {
            "text/plain": [
              "<Figure size 640x480 with 1 Axes>"
            ],
            "image/png": "[encoded data removed]"
          },
          "metadata": {}
        }
      ]
    },
    {
      "cell_type": "markdown",
      "source": [
        "The linear model reflects the general trend.\n",
        "\n",
        "The bigger the area, the higher the sales price."
      ],
      "metadata": {
        "id": "8bGKIneWuaKp"
      }
    },
    {
      "cell_type": "markdown",
      "source": [
        "Now lets see the weights of our model after training"
      ],
      "metadata": {
        "id": "5552RKZ2u9YA"
      }
    },
    {
      "cell_type": "code",
      "source": [
        "print(f'Slope: {lr.w_[0]:.3f}')\n",
        "print(f'Intercept: {lr.b_[0]:.3f}')"
      ],
      "metadata": {
        "colab": {
          "base_uri": "https://localhost:8080/"
        },
        "id": "pP-ODppsu8ws",
        "outputId": "3a002654-d505-4bd0-b4ba-ff0cc601765e"
      },
      "execution_count": null,
      "outputs": [
        {
          "output_type": "stream",
          "name": "stdout",
          "text": [
            "Slope: 0.707\n",
            "Intercept: -0.000\n"
          ]
        }
      ]
    },
    {
      "cell_type": "markdown",
      "source": [
        "### Fit Linear Regression from Scikit-Learn\n",
        "\n",
        "In real world applications we wont implement our own models. Instead we will rely on more efficient and well-written implementations.\n",
        "\n",
        "Lets implement Linear Regression from sklearn"
      ],
      "metadata": {
        "id": "H6W-ratcuiM_"
      }
    },
    {
      "cell_type": "code",
      "source": [
        "from sklearn.linear_model import LinearRegression"
      ],
      "metadata": {
        "id": "ZVJWY-Cquy7g"
      },
      "execution_count": null,
      "outputs": []
    },
    {
      "cell_type": "markdown",
      "source": [
        "Will also fit the model on the non-standarized data"
      ],
      "metadata": {
        "id": "JsFtTOoVvREc"
      }
    },
    {
      "cell_type": "code",
      "source": [
        "# Define the model\n",
        "slr = LinearRegression()\n",
        "# fit the model\n",
        "slr.fit(X, y)\n",
        "# Get predictions\n",
        "y_pred = slr.predict(X)"
      ],
      "metadata": {
        "id": "vuYiAjmcu2an"
      },
      "execution_count": null,
      "outputs": []
    },
    {
      "cell_type": "markdown",
      "source": [
        "Checking the weights"
      ],
      "metadata": {
        "id": "XjnmXW8OvDRw"
      }
    },
    {
      "cell_type": "code",
      "source": [
        "print(f'Slope: {slr.coef_[0]:.3f}')\n",
        "print(f'Intercept: {slr.intercept_:.3f}')"
      ],
      "metadata": {
        "colab": {
          "base_uri": "https://localhost:8080/"
        },
        "id": "F9aj6SVSu6tG",
        "outputId": "e4854f9f-fadb-465d-d686-e69eade1c21b"
      },
      "execution_count": null,
      "outputs": [
        {
          "output_type": "stream",
          "name": "stdout",
          "text": [
            "Slope: 111.666\n",
            "Intercept: 13342.979\n"
          ]
        }
      ]
    },
    {
      "cell_type": "markdown",
      "source": [
        "Scikit-Learn implementaion yielded different weights than our approach."
      ],
      "metadata": {
        "id": "pOTH-FjXvF-B"
      }
    },
    {
      "cell_type": "code",
      "source": [
        "lin_regplot(X, y, slr)\n",
        "plt.xlabel('Living area above ground in square feet')\n",
        "plt.ylabel('Sale price in U.S. dollars')\n",
        "\n",
        "plt.tight_layout()\n",
        "#plt.savefig('figures/09_08.png', dpi=300)\n",
        "plt.show()"
      ],
      "metadata": {
        "colab": {
          "base_uri": "https://localhost:8080/",
          "height": 487
        },
        "id": "nGLCPE1MvNvQ",
        "outputId": "5cf6c80f-d3b8-4465-d5f4-638a56893f48"
      },
      "execution_count": null,
      "outputs": [
        {
          "output_type": "display_data",
          "data": {
            "text/plain": [
              "<Figure size 640x480 with 1 Axes>"
            ],
            "image/png": "[encoded data removed]"
          },
          "metadata": {}
        }
      ]
    },
    {
      "cell_type": "markdown",
      "source": [
        "### Evaluate the predictions of the model\n",
        "\n",
        "In the previous section we sow how to fit a regression model on training data. However, as we said, its very crucial to test the model on data that it has not seen during training to get a good estimate of its generalization performance"
      ],
      "metadata": {
        "id": "ZGKA2N_UvaC9"
      }
    },
    {
      "cell_type": "markdown",
      "source": [
        "Now lets split our data to train-test"
      ],
      "metadata": {
        "id": "G9Z_GQNhvoq7"
      }
    },
    {
      "cell_type": "code",
      "source": [
        "from sklearn.model_selection import train_test_split\n",
        "\n",
        "# Define the target and the fatures\n",
        "target = 'SalePrice'\n",
        "features = df.columns[df.columns != target]\n",
        "\n",
        "X = df[features].values\n",
        "y = df[target].values\n",
        "\n",
        "# Make the split. 0.2 of the dataset is kept as test set\n",
        "X_train, X_test, y_train, y_test = train_test_split(\n",
        "    X, y, test_size=0.2, random_state=123)"
      ],
      "metadata": {
        "id": "w2TtQ8MUvT0d"
      },
      "execution_count": null,
      "outputs": []
    },
    {
      "cell_type": "code",
      "source": [
        "# Lets fit a model on training data only\n",
        "\n",
        "slr = LinearRegression()\n",
        "\n",
        "slr.fit(X_train, y_train)\n",
        "y_train_pred = slr.predict(X_train)\n",
        "y_test_pred = slr.predict(X_test)"
      ],
      "metadata": {
        "id": "WHeq57ADv6-1"
      },
      "execution_count": null,
      "outputs": []
    },
    {
      "cell_type": "markdown",
      "source": [
        "Next we define an evaluation metric!\n",
        "\n",
        "We will use MSE (as defined earlier) to investigate the performance of the model"
      ],
      "metadata": {
        "id": "nbN0ZFNzwC4L"
      }
    },
    {
      "cell_type": "code",
      "source": [
        "from sklearn.metrics import mean_squared_error\n",
        "\n",
        "# Calculate the performance both on training and test set\n",
        "mse_train = mean_squared_error(y_train, y_train_pred)\n",
        "mse_test = mean_squared_error(y_test, y_test_pred)"
      ],
      "metadata": {
        "id": "4YQuN_uYwL98"
      },
      "execution_count": null,
      "outputs": []
    },
    {
      "cell_type": "markdown",
      "source": [
        "Attention!!\n",
        "\n",
        "We are interested in the performance on unseen data!"
      ],
      "metadata": {
        "id": "XenWDxYHwW-j"
      }
    },
    {
      "cell_type": "code",
      "source": [
        "print(f'MSE train: {mse_train:.2f}')\n",
        "print(f'MSE test: {mse_test:.2f}')"
      ],
      "metadata": {
        "colab": {
          "base_uri": "https://localhost:8080/"
        },
        "id": "ZekuuoHPwbYz",
        "outputId": "9aee1388-0cd8-4b66-ecf8-af540a6bb53e"
      },
      "execution_count": null,
      "outputs": [
        {
          "output_type": "stream",
          "name": "stdout",
          "text": [
            "MSE train: 1583809579.51\n",
            "MSE test: 1174304406.64\n"
          ]
        }
      ]
    },
    {
      "cell_type": "markdown",
      "source": [
        "### Next steps!\n",
        "\n",
        "Now that we have a simple benchmark, the next steps are to improve the performance of the model!!\n",
        "\n",
        "We can preprocess our data more, get more features or simply try a more complex model high higher predictive power!!"
      ],
      "metadata": {
        "id": "lGOz_4mgwgaH"
      }
    }
  ]
}