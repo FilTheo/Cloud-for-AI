{
 "cells": [
  {
   "cell_type": "markdown",
   "metadata": {},
   "source": [
    "#### Intro"
   ]
  },
  {
   "cell_type": "markdown",
   "metadata": {},
   "source": [
    "reference: https://medium.com/codex/streamlit-fastapi-%EF%B8%8F-the-ingredients-you-need-for-your-next-data-science-recipe-ffbeb5f76a92"
   ]
  },
  {
   "cell_type": "markdown",
   "metadata": {},
   "source": [
    "We will cover the following steps:\n",
    "\n",
    "1. Create a basic Python Calculator module.\n",
    "2. Serve the function from the module using FastAPI.\n",
    "3. Creating a very basic UI using Streamlit.\n",
    "4. Integrating Streamlit & FastAPI."
   ]
  },
  {
   "cell_type": "markdown",
   "metadata": {},
   "source": [
    "#### Step: Create a basic Python Calculator module"
   ]
  },
  {
   "cell_type": "markdown",
   "metadata": {},
   "source": [
    "A module is just a python script containing a set of functions you want to include in your application. Here we are building a calculator app so the inputs we need are the numbers and the operation we want to perform.\n",
    "\n",
    "Let’s create a function calculate for serving the same purpose with parameters operation, x & y respectively and save this as calculator.py module.\n",
    "\n",
    "It’s a very basic function that simply performs the operation against the operation name passed using the if-elif blocks and returns the result."
   ]
  },
  {
   "cell_type": "code",
   "execution_count": 2,
   "metadata": {},
   "outputs": [],
   "source": [
    "def calculate(operation, x, y):\n",
    "    \"\"\"\n",
    "    operation - takes the string ['add', 'subtract', 'multiply', 'divide']\n",
    "    x - first number\n",
    "    y - second number\n",
    "    \"\"\"\n",
    "    if operation == 'add':\n",
    "        return x + y\n",
    "    elif operation == 'subtract':\n",
    "        return x - y\n",
    "    elif operation == 'multiply':\n",
    "        return x * y\n",
    "    elif operation == 'divide':\n",
    "        return x / y\n",
    "    else:\n",
    "        return 'Invalid operation'"
   ]
  },
  {
   "cell_type": "markdown",
   "metadata": {},
   "source": [
    "#### Step 2: Creating the API using FastAPI"
   ]
  },
  {
   "cell_type": "markdown",
   "metadata": {},
   "source": [
    "Here we’ll create a basic request body. We’ll create a class User_input using [pydantic’s BaseModel](https://docs.pydantic.dev/latest/concepts/models/) for type validation and sending the arguments to the calculator function, which we will simply import from the calculator module we created above."
   ]
  },
  {
   "cell_type": "code",
   "execution_count": 3,
   "metadata": {},
   "outputs": [],
   "source": [
    "from fastapi import FastAPI\n",
    "from pydantic import BaseModel"
   ]
  },
  {
   "cell_type": "code",
   "execution_count": 4,
   "metadata": {},
   "outputs": [],
   "source": [
    "class User_input(BaseModel):\n",
    "    operation: str\n",
    "    x: float\n",
    "    y: float"
   ]
  },
  {
   "cell_type": "code",
   "execution_count": 5,
   "metadata": {},
   "outputs": [],
   "source": [
    "app = FastAPI()\n",
    "\n",
    "@app.post('/calculate')\n",
    "def calculate_post(user_input: User_input):\n",
    "\n",
    "    user_input, x, y = user_input.operation, user_input.x, user_input.y\n",
    "\n",
    "    return calculate(user_input, x, y)"
   ]
  },
  {
   "cell_type": "markdown",
   "metadata": {},
   "source": [
    "For running the FastAPI server we need to run the following command:\n",
    "\n",
    "```bash\n",
    "uvicorn main:app --reload\n",
    "```"
   ]
  },
  {
   "cell_type": "markdown",
   "metadata": {},
   "source": [
    "We can now open the Swagger UI here 👉 http://127.0.0.1:8000/docs\n",
    "\n"
   ]
  },
  {
   "cell_type": "markdown",
   "metadata": {},
   "source": [
    "This completes our back-end process. We have created a module and created an API, invoking function by importing the module.\n",
    "\n",
    "One of the main benefits of REST APIs is that the REST protocol separates the data storage(back-end) and the UI(front-end) from the server thus allowing the client and server to be independent."
   ]
  },
  {
   "cell_type": "markdown",
   "metadata": {},
   "source": [
    "#### Create the web app using Streamlit"
   ]
  },
  {
   "cell_type": "markdown",
   "metadata": {},
   "source": [
    "Lets design a very simple UI using Streamlit"
   ]
  },
  {
   "cell_type": "code",
   "execution_count": 1,
   "metadata": {},
   "outputs": [],
   "source": [
    "import streamlit as st\n",
    "import json\n",
    "import requests"
   ]
  },
  {
   "cell_type": "code",
   "execution_count": 6,
   "metadata": {},
   "outputs": [
    {
     "name": "stderr",
     "output_type": "stream",
     "text": [
      "2023-11-28 17:00:19.576 \n",
      "  \u001b[33m\u001b[1mWarning:\u001b[0m to view this Streamlit app on a browser, run it with the following\n",
      "  command:\n",
      "\n",
      "    streamlit run C:\\Users\\u0153325\\AppData\\Local\\Packages\\PythonSoftwareFoundation.Python.3.9_qbz5n2kfra8p0\\LocalCache\\local-packages\\Python39\\site-packages\\ipykernel_launcher.py [ARGUMENTS]\n"
     ]
    }
   ],
   "source": [
    "st.title(\"Basic Calculator App\")\n",
    "\n",
    "option = st.selectbox(\"What operation would you like to do?\",\n",
    "                       ['add', 'subtract', 'multiply', 'divide']\n",
    "                       )\n",
    "\n",
    "st.write(\"\")\n",
    "st.write(\"Select the numbers from the slider below:\")\n",
    "x = st.slider(\"First number\", 0, 100, 20)\n",
    "y = st.slider(\"Second number\", 0, 100, 10)\n",
    "\n",
    "# When the user clicks the button it will fetch the API\n",
    "if st.button(\"Calculate\"):\n",
    "    res = requests.post(url = 'http://127.0.0.1:8000/calculate', data = json.dumps({'operation': option, 'x': x, 'y': y}))\n",
    "\n",
    "    st.subheader(\"The answer is:\" + str(res.text))\n",
    "                        \n",
    "                "
   ]
  },
  {
   "cell_type": "markdown",
   "metadata": {},
   "source": [
    "Lets review the components real quick:\n",
    "\n",
    "```python\n",
    "st.title: Display text in title formatting.\n",
    "```\n",
    "\n",
    "```python\n",
    "st.write: Write arguments to the app.\n",
    "```\n",
    "\n",
    "```python\n",
    "st.selectbox: Display a select widget.\n",
    "```\n",
    "\n",
    "```python\n",
    "st.button: Display a button widget.\n",
    "```"
   ]
  },
  {
   "cell_type": "markdown",
   "metadata": {},
   "source": [
    "For running the streamlit server we need to run the following command:\n",
    "\n",
    "```bash\n",
    "streamlit run main.py\n",
    "```"
   ]
  },
  {
   "cell_type": "markdown",
   "metadata": {},
   "source": [
    "It will launch the app in the browser, you can go to http://localhost:8501 The web app will look something like this"
   ]
  },
  {
   "cell_type": "markdown",
   "metadata": {},
   "source": [
    "#### Step 4: Integrating Streamlit & FastAPI"
   ]
  },
  {
   "cell_type": "markdown",
   "metadata": {},
   "source": [
    "For avoiding errors & running the app well we need to make sure that both our front-end & back-end servers are up & running"
   ]
  },
  {
   "cell_type": "markdown",
   "metadata": {},
   "source": [
    "```bash \n",
    "streamlit run main.py\n",
    "```\n",
    "\n",
    "```bash\n",
    "uvicorn main:app --reload\n",
    "```\n",
    "\n",
    "```"
   ]
  },
  {
   "cell_type": "markdown",
   "metadata": {},
   "source": [
    "We will use Python’s [request library](https://pypi.org/project/requests/) for integrating the backend in the streamlit script. In the streamlit app, we are storing the inputs into a dictionary variable inputs = {\"operation\": option, \"x\": x, \"y\": y}"
   ]
  },
  {
   "cell_type": "markdown",
   "metadata": {},
   "source": [
    "We will convert our python object inputs into a JSON format while sending requests to our API."
   ]
  },
  {
   "cell_type": "markdown",
   "metadata": {},
   "source": [
    "```python\n",
    "import requests\n",
    "requests.post(\"http://127.0.0.1:8000/calculate\", data = json.dumps(inputs))\n",
    "```"
   ]
  }
 ],
 "metadata": {
  "kernelspec": {
   "display_name": "Python 3",
   "language": "python",
   "name": "python3"
  },
  "language_info": {
   "codemirror_mode": {
    "name": "ipython",
    "version": 3
   },
   "file_extension": ".py",
   "mimetype": "text/x-python",
   "name": "python",
   "nbconvert_exporter": "python",
   "pygments_lexer": "ipython3",
   "version": "3.9.13"
  }
 },
 "nbformat": 4,
 "nbformat_minor": 2
}
